{
 "cells": [
  {
   "cell_type": "markdown",
   "metadata": {
    "slideshow": {
     "slide_type": "slide"
    }
   },
   "source": [
    "# Keras"
   ]
  },
  {
   "cell_type": "markdown",
   "metadata": {
    "slideshow": {
     "slide_type": "slide"
    }
   },
   "source": [
    "## Summary\n",
    "\n",
    "- Introduction\n",
    "- The Sequential model\n",
    "- Layers API"
   ]
  },
  {
   "cell_type": "markdown",
   "metadata": {
    "slideshow": {
     "slide_type": "slide"
    }
   },
   "source": [
    "## Introduction"
   ]
  },
  {
   "cell_type": "markdown",
   "metadata": {
    "slideshow": {
     "slide_type": "slide"
    }
   },
   "source": [
    "### Keras in a nutshell\n",
    "\n",
    "Keras is a high-level, user-friendly API for creating and training neural nets.\n",
    "\n",
    "[![Keras logo](images/keras_logo.png)](https://keras.io)"
   ]
  },
  {
   "cell_type": "markdown",
   "metadata": {
    "slideshow": {
     "slide_type": "slide"
    }
   },
   "source": [
    "### Keras and TensorFlow\n",
    "\n",
    "- [TensorFlow](https://www.tensorflow.org/) is a platform for Machine Learning and Deep Learning created by Google.\n",
    "- Originally, Keras could be used with many ML librairies as back-end for computations: TensorFlow 1.x, Theano, CNTK...\n",
    "- Since TF 2.0, _tf.keras_ is the official high-level API of TensorFlow.\n",
    "- The [2.3.0 release](https://github.com/keras-team/keras/releases/tag/2.3.0) (Sept. 2019) was the last major release of multi-backend Keras.\n",
    "- \"There is now only one Keras: *tf.keras*\".\n",
    "\n",
    "[TF 2.0 + Keras overview notebook](https://colab.research.google.com/drive/1UCJt8EYjlzCs1H1d1X0iDGYJsHKwu-NO)"
   ]
  },
  {
   "cell_type": "markdown",
   "metadata": {
    "slideshow": {
     "slide_type": "slide"
    }
   },
   "source": [
    "## The Sequential model"
   ]
  },
  {
   "cell_type": "markdown",
   "metadata": {
    "slideshow": {
     "slide_type": "slide"
    }
   },
   "source": [
    "### Description\n",
    "\n",
    "A *Sequential* model creates a linear stack of layers where each layer has exactly one input tensor and one output tensor.\n",
    "\n",
    "Upon adding a new layer to the stack, Keras can automatically infer its input shape from the output shape of the previous layer.\n",
    "\n",
    "It is the easiest way to create simple neural networks architectures with Keras."
   ]
  },
  {
   "cell_type": "markdown",
   "metadata": {
    "slideshow": {
     "slide_type": "slide"
    }
   },
   "source": [
    "### Example: creating a fully connected neural network\n",
    "\n",
    "A *fully connected* or *dense* neural network is an architecture where all the nodes (neurons) in one layer are connected to the neurons in the next layer."
   ]
  },
  {
   "cell_type": "markdown",
   "metadata": {
    "slideshow": {
     "slide_type": "slide"
    }
   },
   "source": [
    "#### Environment setup"
   ]
  },
  {
   "cell_type": "code",
   "execution_count": 1,
   "metadata": {},
   "outputs": [
    {
     "name": "stdout",
     "output_type": "stream",
     "text": [
      "Python version: 3.8.3\n"
     ]
    }
   ],
   "source": [
    "import platform\n",
    "\n",
    "print(f\"Python version: {platform.python_version()}\")\n",
    "assert platform.python_version_tuple() >= (\"3\", \"6\")\n",
    "\n",
    "import numpy as np\n",
    "import matplotlib\n",
    "import matplotlib.pyplot as plt\n",
    "import seaborn as sns"
   ]
  },
  {
   "cell_type": "code",
   "execution_count": 2,
   "metadata": {
    "slideshow": {
     "slide_type": "-"
    }
   },
   "outputs": [],
   "source": [
    "# Setup plots\n",
    "%matplotlib inline\n",
    "plt.rcParams[\"figure.figsize\"] = 10, 8\n",
    "%config InlineBackend.figure_format = 'retina'\n",
    "sns.set()"
   ]
  },
  {
   "cell_type": "code",
   "execution_count": 3,
   "metadata": {
    "slideshow": {
     "slide_type": "slide"
    }
   },
   "outputs": [
    {
     "name": "stdout",
     "output_type": "stream",
     "text": [
      "scikit-learn version: 0.23.1\n"
     ]
    }
   ],
   "source": [
    "import sklearn\n",
    "\n",
    "print(f\"scikit-learn version: {sklearn.__version__}\")\n",
    "\n",
    "from sklearn.datasets import make_blobs"
   ]
  },
  {
   "cell_type": "code",
   "execution_count": 4,
   "metadata": {
    "slideshow": {
     "slide_type": "-"
    }
   },
   "outputs": [
    {
     "name": "stdout",
     "output_type": "stream",
     "text": [
      "TensorFlow version: 2.3.1\n",
      "Keras version: 2.4.0\n"
     ]
    }
   ],
   "source": [
    "import tensorflow as tf\n",
    "\n",
    "print(f\"TensorFlow version: {tf.__version__}\")\n",
    "print(f\"Keras version: {tf.keras.__version__}\")\n",
    "\n",
    "from tensorflow.keras.models import Sequential\n",
    "from tensorflow.keras.layers import Dense, Flatten, Dropout, Conv2D, MaxPooling2D"
   ]
  },
  {
   "cell_type": "code",
   "execution_count": 5,
   "metadata": {
    "slideshow": {
     "slide_type": "skip"
    },
    "tags": [
     "hide-input"
    ]
   },
   "outputs": [],
   "source": [
    "def plot_loss_acc(history):\n",
    "    \"\"\"Plot training and (optionally) validation loss and accuracy\n",
    "    Takes a Keras History object as parameter\"\"\"\n",
    "\n",
    "    loss = history.history[\"loss\"]\n",
    "    epochs = range(1, len(loss) + 1)\n",
    "\n",
    "    plt.figure(figsize=(10, 10))\n",
    "\n",
    "    plt.subplot(2, 1, 1)\n",
    "    plt.plot(epochs, loss, \".--\", label=\"Training loss\")\n",
    "    final_loss = loss[-1]\n",
    "    title = \"Training loss: {:.4f}\".format(final_loss)\n",
    "    plt.ylabel(\"Loss\")\n",
    "    if \"val_loss\" in history.history:\n",
    "        val_loss = history.history[\"val_loss\"]\n",
    "        plt.plot(epochs, val_loss, \"o-\", label=\"Validation loss\")\n",
    "        final_val_loss = val_loss[-1]\n",
    "        title += \", Validation loss: {:.4f}\".format(final_val_loss)\n",
    "    plt.title(title)\n",
    "    plt.legend()\n",
    "\n",
    "    acc = history.history[\"accuracy\"]\n",
    "\n",
    "    plt.subplot(2, 1, 2)\n",
    "    plt.plot(epochs, acc, \".--\", label=\"Training acc\")\n",
    "    final_acc = acc[-1]\n",
    "    title = \"Training accuracy: {:.2f}%\".format(final_acc * 100)\n",
    "    plt.xlabel(\"Epochs\")\n",
    "    plt.ylabel(\"Accuracy\")\n",
    "    if \"val_accuracy\" in history.history:\n",
    "        val_acc = history.history[\"val_accuracy\"]\n",
    "        plt.plot(epochs, val_acc, \"o-\", label=\"Validation acc\")\n",
    "        final_val_acc = val_acc[-1]\n",
    "        title += \", Validation accuracy: {:.2f}%\".format(final_val_acc * 100)\n",
    "    plt.title(title)\n",
    "    plt.legend()"
   ]
  },
  {
   "cell_type": "markdown",
   "metadata": {
    "slideshow": {
     "slide_type": "slide"
    }
   },
   "source": [
    "#### Data generation"
   ]
  },
  {
   "cell_type": "code",
   "execution_count": 6,
   "metadata": {
    "slideshow": {
     "slide_type": "-"
    }
   },
   "outputs": [],
   "source": [
    "# Generate some data for training\n",
    "# Each sample has 3 features and belongs to one of 2 classes\n",
    "x_train, y_train = make_blobs(\n",
    "    n_samples=1000, n_features=3, centers=2, cluster_std=2.0, random_state=11\n",
    ")"
   ]
  },
  {
   "cell_type": "markdown",
   "metadata": {
    "slideshow": {
     "slide_type": "slide"
    }
   },
   "source": [
    "#### Expected network architecture\n",
    "\n",
    "![A simple neural network](images/neural_net2.jpeg)"
   ]
  },
  {
   "cell_type": "markdown",
   "metadata": {
    "slideshow": {
     "slide_type": "slide"
    }
   },
   "source": [
    "#### Model creation"
   ]
  },
  {
   "cell_type": "code",
   "execution_count": 7,
   "metadata": {
    "slideshow": {
     "slide_type": "-"
    }
   },
   "outputs": [],
   "source": [
    "# Create a new sequential model\n",
    "seq_model = Sequential()\n",
    "\n",
    "# Add a 4-neurons layer using tanh as activation function\n",
    "# Input shape corresponds the number of input features (here 3)\n",
    "seq_model.add(Dense(4, activation='tanh', input_shape=(3,)))\n",
    "\n",
    "# Add a 4-neurons layer using tanh\n",
    "# Input shape is infered from previous layer\n",
    "seq_model.add(Dense(4, activation='tanh'))\n",
    "\n",
    "# Add a 1-neuron output layer using sigmoid\n",
    "seq_model.add(Dense(1, activation='sigmoid'))"
   ]
  },
  {
   "cell_type": "code",
   "execution_count": 8,
   "metadata": {
    "slideshow": {
     "slide_type": "slide"
    }
   },
   "outputs": [
    {
     "name": "stdout",
     "output_type": "stream",
     "text": [
      "Model: \"sequential\"\n",
      "_________________________________________________________________\n",
      "Layer (type)                 Output Shape              Param #   \n",
      "=================================================================\n",
      "dense (Dense)                (None, 4)                 16        \n",
      "_________________________________________________________________\n",
      "dense_1 (Dense)              (None, 4)                 20        \n",
      "_________________________________________________________________\n",
      "dense_2 (Dense)              (None, 1)                 5         \n",
      "=================================================================\n",
      "Total params: 41\n",
      "Trainable params: 41\n",
      "Non-trainable params: 0\n",
      "_________________________________________________________________\n"
     ]
    }
   ],
   "source": [
    "# Print a summary of model architecture\n",
    "# (Can you justify the parameter counts for each layer?)\n",
    "seq_model.summary()"
   ]
  },
  {
   "cell_type": "markdown",
   "metadata": {
    "slideshow": {
     "slide_type": "slide"
    }
   },
   "source": [
    "#### Model compilation"
   ]
  },
  {
   "cell_type": "code",
   "execution_count": 9,
   "metadata": {
    "slideshow": {
     "slide_type": "-"
    }
   },
   "outputs": [],
   "source": [
    "# Configuration of the training process\n",
    "#   optimizer: gradient descent optimization method\n",
    "#   loss: loss function\n",
    "#   metrics: list of metrics monitored during training and testing\n",
    "seq_model.compile(optimizer=\"rmsprop\", loss=\"binary_crossentropy\", metrics=[\"accuracy\"])"
   ]
  },
  {
   "cell_type": "markdown",
   "metadata": {
    "slideshow": {
     "slide_type": "slide"
    }
   },
   "source": [
    "#### Model training"
   ]
  },
  {
   "cell_type": "code",
   "execution_count": 10,
   "metadata": {
    "slideshow": {
     "slide_type": "-"
    }
   },
   "outputs": [
    {
     "name": "stdout",
     "output_type": "stream",
     "text": [
      "Epoch 1/10\n",
      "32/32 [==============================] - 0s 1ms/step - loss: 0.4909 - accuracy: 0.7260\n",
      "Epoch 2/10\n",
      "32/32 [==============================] - 0s 1ms/step - loss: 0.4167 - accuracy: 0.8910\n",
      "Epoch 3/10\n",
      "32/32 [==============================] - 0s 1ms/step - loss: 0.3510 - accuracy: 0.9210\n",
      "Epoch 4/10\n",
      "32/32 [==============================] - 0s 1ms/step - loss: 0.2913 - accuracy: 0.9450\n",
      "Epoch 5/10\n",
      "32/32 [==============================] - 0s 1ms/step - loss: 0.2388 - accuracy: 0.9580\n",
      "Epoch 6/10\n",
      "32/32 [==============================] - 0s 1ms/step - loss: 0.1945 - accuracy: 0.9690\n",
      "Epoch 7/10\n",
      "32/32 [==============================] - 0s 1ms/step - loss: 0.1587 - accuracy: 0.9750\n",
      "Epoch 8/10\n",
      "32/32 [==============================] - 0s 1ms/step - loss: 0.1303 - accuracy: 0.9820\n",
      "Epoch 9/10\n",
      "32/32 [==============================] - 0s 1ms/step - loss: 0.1082 - accuracy: 0.9860\n",
      "Epoch 10/10\n",
      "32/32 [==============================] - 0s 1ms/step - loss: 0.0906 - accuracy: 0.9890\n"
     ]
    }
   ],
   "source": [
    "# Launch the training of the model on the data\n",
    "#   epochs: number of epochs to train the model\n",
    "#     An epoch is an iteration over the entire training dataset\n",
    "#   batch_size: number of samples used for each gradient descent step\n",
    "#     number of GD steps in an epoch = x_train.size / batch_size (rounded up)\n",
    "#     total number of GD steps = epoch_GD_steps * epochs\n",
    "#   verbose: level of information outputted during training\n",
    "#     0 = silent, 1 = progress bar, 2 = one line per epoch\n",
    "# The returned history object contains a record of loss and metrics values\n",
    "history = seq_model.fit(x_train, y_train, epochs=10, batch_size=32, verbose=1)"
   ]
  },
  {
   "cell_type": "markdown",
   "metadata": {
    "slideshow": {
     "slide_type": "slide"
    }
   },
   "source": [
    "#### Model evaluation"
   ]
  },
  {
   "cell_type": "code",
   "execution_count": 11,
   "metadata": {},
   "outputs": [
    {
     "name": "stdout",
     "output_type": "stream",
     "text": [
      "Training loss: 0.08260\n",
      "Training accuracy: 0.99000\n"
     ]
    }
   ],
   "source": [
    "# Compute the loss & metrics values for the trained network\n",
    "loss, acc = seq_model.evaluate(x_train, y_train, verbose=0)\n",
    "\n",
    "print(f\"Training loss: {loss:.05f}\")\n",
    "print(f\"Training accuracy: {acc:.05f}\")"
   ]
  },
  {
   "cell_type": "code",
   "execution_count": 12,
   "metadata": {
    "slideshow": {
     "slide_type": "slide"
    }
   },
   "outputs": [
    {
     "data": {
      "image/png": "[encoded data removed]",
      "text/plain": [
       "<Figure size 720x720 with 2 Axes>"
      ]
     },
     "metadata": {
      "image/png": {
       "height": 608,
       "width": 622
      }
     },
     "output_type": "display_data"
    }
   ],
   "source": [
    "# Plot training metrics\n",
    "plot_loss_acc(history)"
   ]
  },
  {
   "cell_type": "markdown",
   "metadata": {
    "slideshow": {
     "slide_type": "slide"
    }
   },
   "source": [
    "## Layers API"
   ]
  },
  {
   "cell_type": "markdown",
   "metadata": {
    "slideshow": {
     "slide_type": "slide"
    }
   },
   "source": [
    "### What is a layer?\n",
    "\n",
    "Layers are the basic building blocks of neural networks in Keras.\n",
    "\n",
    "A layer is a simple input-output transformation. It encapsulates a state (weights) and some computation.\n",
    "\n",
    "Keras offers many layers for various purposes (convolution, pooling, reshaping...). See the [official documentation](https://keras.io/api/layers/) for details."
   ]
  },
  {
   "cell_type": "markdown",
   "metadata": {
    "slideshow": {
     "slide_type": "slide"
    }
   },
   "source": [
    "### Dense layer\n",
    "\n",
    "Defines a fully-connected layer. Implements a weighted sum of its inputs plus a bias.\n",
    "\n",
    "- Input shape: *(batch_size, input_dim)*\n",
    "- Output shape: *(batch_size, units)*"
   ]
  },
  {
   "cell_type": "code",
   "execution_count": 13,
   "metadata": {},
   "outputs": [],
   "source": [
    "# units: number of neurons in the layer\n",
    "# activation: activation function\n",
    "dense_layer = Dense(units=3, activation='relu')"
   ]
  },
  {
   "cell_type": "markdown",
   "metadata": {
    "slideshow": {
     "slide_type": "slide"
    }
   },
   "source": [
    "### Flatten layer\n",
    "\n",
    "Flattens its input without affecting the batch size. Often used before a *Dense* layer.\n",
    "\n",
    "- Input shape: *(batch_size, input_dim1, input_dim2, ...)*\n",
    "- Output shape: *(batch_size, product of input dimensions)*"
   ]
  },
  {
   "cell_type": "code",
   "execution_count": 14,
   "metadata": {},
   "outputs": [
    {
     "name": "stdout",
     "output_type": "stream",
     "text": [
      "Output: (32, 576)\n"
     ]
    }
   ],
   "source": [
    "flatten_layer = Flatten()\n",
    "\n",
    "# Create a 4D tensor\n",
    "input = np.random.rand(32, 3, 3, 64).astype(np.float32)\n",
    "output = flatten_layer(input)\n",
    "# 576 = 3*3*64\n",
    "print(f\"Output: {output.shape}\")"
   ]
  },
  {
   "cell_type": "markdown",
   "metadata": {
    "slideshow": {
     "slide_type": "slide"
    }
   },
   "source": [
    "### Dropout layer\n",
    "\n",
    "Applies Dropout to the input, randomly setting input units to 0 with a frequency of *rate* at each step during training time, which helps prevent overfitting.\n",
    "\n",
    "Output shape is not modified.\n",
    "\n",
    "- Input shape: *(batch_size, input_dim1, input_dim2, ...)*\n",
    "- Output shape: *(batch_size, input_dim1, input_dim2, ...)*"
   ]
  },
  {
   "cell_type": "code",
   "execution_count": 15,
   "metadata": {},
   "outputs": [],
   "source": [
    "# rate: percentage of input units randomly set to 0 during training\n",
    "dropout_layer = Dropout(rate=.2)"
   ]
  },
  {
   "cell_type": "markdown",
   "metadata": {
    "slideshow": {
     "slide_type": "slide"
    }
   },
   "source": [
    "### Conv2D layer\n",
    "\n",
    "Creates a convolution kernel that is convolved with the layer input to produce a tensor of outputs, implementing spatial convolution over images.\n",
    "\n",
    "- Input shape: *(batch_size, rows, cols, channels)*\n",
    "- Output shape: *(batch_size, new_rows, new_cols, filters)*"
   ]
  },
  {
   "cell_type": "code",
   "execution_count": 16,
   "metadata": {},
   "outputs": [],
   "source": [
    "# filters: number of output filters in the convolution\n",
    "# kernel_size: height and width of the 2D convolution window\n",
    "# activation: activation function\n",
    "# padding: padding of the input such that output has the same height/width dimension\n",
    "#   \"valid\": no padding, \"same\": padding enabled\n",
    "conv2d_layer = Conv2D(\n",
    "    filters=64, kernel_size=(3, 3), activation=\"relu\", padding=\"valid\"\n",
    ")"
   ]
  },
  {
   "cell_type": "markdown",
   "metadata": {
    "slideshow": {
     "slide_type": "slide"
    }
   },
   "source": [
    "### MaxPooling2D layer\n",
    "\n",
    "Implements the Max pooling operation for 2D spatial data.\n",
    "\n",
    "- Input shape: *(batch_size, rows, cols, channels)*\n",
    "- Ouput shape: *(batch_size, pooled_rows, pooled_cols, channels)*"
   ]
  },
  {
   "cell_type": "code",
   "execution_count": 17,
   "metadata": {},
   "outputs": [],
   "source": [
    "# pool_size: window size over which to take the maximum\n",
    "# padding: padding of the input such that output has the same height/width dimension\n",
    "#   \"valid\": no padding, \"same\": padding enabled\n",
    "maxpool2d_layer = MaxPooling2D(pool_size=(2, 2), padding=\"valid\")"
   ]
  }
 ],
 "metadata": {
  "celltoolbar": "Diaporama",
  "kernelspec": {
   "display_name": "Python 3",
   "language": "python",
   "name": "python3"
  },
  "language_info": {
   "codemirror_mode": {
    "name": "ipython",
    "version": 3
   },
   "file_extension": ".py",
   "mimetype": "text/x-python",
   "name": "python",
   "nbconvert_exporter": "python",
   "pygments_lexer": "ipython3",
   "version": "3.8.3"
  }
 },
 "nbformat": 4,
 "nbformat_minor": 2
}
