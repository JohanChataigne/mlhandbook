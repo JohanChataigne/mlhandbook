{
 "cells": [
  {
   "cell_type": "markdown",
   "metadata": {
    "slideshow": {
     "slide_type": "slide"
    }
   },
   "source": [
    "# PyTorch"
   ]
  },
  {
   "cell_type": "markdown",
   "metadata": {
    "slideshow": {
     "slide_type": "slide"
    }
   },
   "source": [
    "## Summary\n",
    "\n",
    "- Introduction\n",
    "- Tensor API\n",
    "- Autograd engine\n",
    "- Neural networks API"
   ]
  },
  {
   "cell_type": "markdown",
   "metadata": {
    "slideshow": {
     "slide_type": "slide"
    }
   },
   "source": [
    "## Introduction"
   ]
  },
  {
   "cell_type": "markdown",
   "metadata": {
    "slideshow": {
     "slide_type": "slide"
    }
   },
   "source": [
    "### PyTorch in a nutshell\n",
    "\n",
    "- ML/DL platform supported by Facebook.\n",
    "- Core components:\n",
    "  - a tensor manipulation library similar to NumPy;\n",
    "  - an autodifferentiation engine for computing gradients;\n",
    "  - a neural network API.\n",
    "- Based on previous work, notably [Torch](http://torch.ch/) and [Chainer](https://chainer.org/).\n",
    "- Initial release in Oct. 2016, v1.0 in Dec. 2018.\n",
    "\n",
    "[![PyTorch logo](images/pytorch-logo-dark.png)](https://pytorch.org)"
   ]
  },
  {
   "cell_type": "markdown",
   "metadata": {
    "slideshow": {
     "slide_type": "slide"
    }
   },
   "source": [
    "### PyTorch's popularity among researchers\n",
    "\n",
    "[![PyTorch State of AI 2020 stats](images/pytorch_stateofai2020.png)](https://www.stateof.ai/)\n",
    "\n",
    "(source: [state of AI 2020 report](https://www.stateof.ai/))"
   ]
  },
  {
   "cell_type": "markdown",
   "metadata": {
    "slideshow": {
     "slide_type": "slide"
    }
   },
   "source": [
    "## Tensor API"
   ]
  },
  {
   "cell_type": "markdown",
   "metadata": {
    "slideshow": {
     "slide_type": "slide"
    }
   },
   "source": [
    "### PyTorch tensors\n",
    "\n",
    "PyTorch provides a NumPy-like API for manipulating tensors.\n",
    "\n",
    "Contrary to NumPy, PyTorch tensors can be located on GPU for faster computations.\n",
    "\n",
    "Read the [official documentation](https://pytorch.org/docs/stable/torch.html) for more details."
   ]
  },
  {
   "cell_type": "markdown",
   "metadata": {
    "slideshow": {
     "slide_type": "slide"
    }
   },
   "source": [
    "### Environment setup"
   ]
  },
  {
   "cell_type": "code",
   "execution_count": 1,
   "metadata": {},
   "outputs": [
    {
     "name": "stdout",
     "output_type": "stream",
     "text": [
      "Python version: 3.8.3\n"
     ]
    }
   ],
   "source": [
    "import platform\n",
    "\n",
    "print(f\"Python version: {platform.python_version()}\")\n",
    "assert platform.python_version_tuple() >= (\"3\", \"6\")\n",
    "\n",
    "import numpy as np\n",
    "import matplotlib\n",
    "import matplotlib.pyplot as plt\n",
    "import seaborn as sns"
   ]
  },
  {
   "cell_type": "code",
   "execution_count": 2,
   "metadata": {
    "slideshow": {
     "slide_type": "slide"
    }
   },
   "outputs": [],
   "source": [
    "# Setup plots\n",
    "%matplotlib inline\n",
    "plt.rcParams[\"figure.figsize\"] = 10, 8\n",
    "%config InlineBackend.figure_format = 'retina'\n",
    "sns.set()\n",
    "%load_ext tensorboard"
   ]
  },
  {
   "cell_type": "code",
   "execution_count": 3,
   "metadata": {
    "slideshow": {
     "slide_type": "slide"
    }
   },
   "outputs": [
    {
     "name": "stdout",
     "output_type": "stream",
     "text": [
      "scikit-learn version: 0.23.1\n",
      "PyTorch version: 1.5.1+cu101\n"
     ]
    }
   ],
   "source": [
    "import sklearn\n",
    "\n",
    "print(f\"scikit-learn version: {sklearn.__version__}\")\n",
    "\n",
    "from sklearn.datasets import make_moons\n",
    "\n",
    "import torch\n",
    "\n",
    "print(f\"PyTorch version: {torch.__version__}\")\n",
    "\n",
    "import torch.nn as nn\n",
    "import torch.nn.functional as F\n",
    "import torch.optim as optim\n",
    "import torchvision\n",
    "import torchvision.transforms as transforms\n",
    "from torch.utils.tensorboard import SummaryWriter"
   ]
  },
  {
   "cell_type": "code",
   "execution_count": 4,
   "metadata": {
    "slideshow": {
     "slide_type": "skip"
    },
    "tags": [
     "hide-input"
    ]
   },
   "outputs": [],
   "source": [
    "def plot_planar_data(X, y):\n",
    "    \"\"\"Plot some 2D data\"\"\"\n",
    "\n",
    "    plt.figure()\n",
    "    plt.plot(X[y == 0, 0], X[y == 0, 1], 'or', alpha=0.5, label=0)\n",
    "    plt.plot(X[y == 1, 0], X[y == 1, 1], 'ob', alpha=0.5, label=1)\n",
    "    plt.legend()"
   ]
  },
  {
   "cell_type": "markdown",
   "metadata": {
    "slideshow": {
     "slide_type": "slide"
    }
   },
   "source": [
    "### Tensor creation"
   ]
  },
  {
   "cell_type": "code",
   "execution_count": 5,
   "metadata": {},
   "outputs": [
    {
     "name": "stdout",
     "output_type": "stream",
     "text": [
      "tensor([5.5000, 3.0000])\n",
      "torch.Size([2])\n"
     ]
    }
   ],
   "source": [
    "# Create 1D tensor with predefined values\n",
    "t = torch.tensor([5.5, 3])\n",
    "\n",
    "print(t)\n",
    "print(t.shape)"
   ]
  },
  {
   "cell_type": "code",
   "execution_count": 6,
   "metadata": {
    "slideshow": {
     "slide_type": "slide"
    }
   },
   "outputs": [
    {
     "name": "stdout",
     "output_type": "stream",
     "text": [
      "tensor([[0.8649, 0.2743, 0.5285],\n",
      "        [0.7191, 0.1968, 0.0423],\n",
      "        [0.9154, 0.9855, 0.6135],\n",
      "        [0.1224, 0.0944, 0.9098],\n",
      "        [0.1547, 0.0879, 0.9092]])\n",
      "torch.Size([5, 3])\n"
     ]
    }
   ],
   "source": [
    "# Create 2D tensor filled with random numbers from a uniform distribution\n",
    "x = torch.rand(5, 3)\n",
    "\n",
    "print(x)\n",
    "print(x.shape)"
   ]
  },
  {
   "cell_type": "markdown",
   "metadata": {
    "slideshow": {
     "slide_type": "slide"
    }
   },
   "source": [
    "### Operations"
   ]
  },
  {
   "cell_type": "code",
   "execution_count": 7,
   "metadata": {
    "slideshow": {
     "slide_type": "-"
    }
   },
   "outputs": [
    {
     "name": "stdout",
     "output_type": "stream",
     "text": [
      "tensor([[2.8649, 2.2743, 2.5285],\n",
      "        [2.7191, 2.1968, 2.0423],\n",
      "        [2.9154, 2.9855, 2.6135],\n",
      "        [2.1224, 2.0944, 2.9098],\n",
      "        [2.1547, 2.0879, 2.9092]])\n"
     ]
    }
   ],
   "source": [
    "# Addition operator\n",
    "y = x + 2\n",
    "\n",
    "print(y)"
   ]
  },
  {
   "cell_type": "code",
   "execution_count": 8,
   "metadata": {
    "slideshow": {
     "slide_type": "slide"
    }
   },
   "outputs": [
    {
     "name": "stdout",
     "output_type": "stream",
     "text": [
      "tensor([[2.8649, 2.2743, 2.5285],\n",
      "        [2.7191, 2.1968, 2.0423],\n",
      "        [2.9154, 2.9855, 2.6135],\n",
      "        [2.1224, 2.0944, 2.9098],\n",
      "        [2.1547, 2.0879, 2.9092]])\n"
     ]
    }
   ],
   "source": [
    "# Addition method\n",
    "y = torch.add(x, 2)\n",
    "\n",
    "print(y)"
   ]
  },
  {
   "cell_type": "code",
   "execution_count": 9,
   "metadata": {
    "slideshow": {
     "slide_type": "slide"
    }
   },
   "outputs": [
    {
     "name": "stdout",
     "output_type": "stream",
     "text": [
      "tensor([[2.8649, 2.2743, 2.5285],\n",
      "        [2.7191, 2.1968, 2.0423],\n",
      "        [2.9154, 2.9855, 2.6135],\n",
      "        [2.1224, 2.0944, 2.9098],\n",
      "        [2.1547, 2.0879, 2.9092]])\n"
     ]
    }
   ],
   "source": [
    "y = torch.zeros(5, 3)\n",
    "\n",
    "# In-place addition: tensor is mutated\n",
    "y.add_(x)\n",
    "y.add_(2)\n",
    "\n",
    "print(y)"
   ]
  },
  {
   "cell_type": "markdown",
   "metadata": {
    "slideshow": {
     "slide_type": "slide"
    }
   },
   "source": [
    "### Indexing"
   ]
  },
  {
   "cell_type": "code",
   "execution_count": 10,
   "metadata": {},
   "outputs": [
    {
     "name": "stdout",
     "output_type": "stream",
     "text": [
      "tensor([[0.8649, 0.2743, 0.5285],\n",
      "        [0.7191, 0.1968, 0.0423],\n",
      "        [0.9154, 0.9855, 0.6135],\n",
      "        [0.1224, 0.0944, 0.9098],\n",
      "        [0.1547, 0.0879, 0.9092]])\n",
      "tensor([0.2743, 0.1968, 0.9855, 0.0944, 0.0879])\n"
     ]
    }
   ],
   "source": [
    "print(x)\n",
    "\n",
    "# Print second column of tensor\n",
    "print(x[:, 1])"
   ]
  },
  {
   "cell_type": "markdown",
   "metadata": {
    "slideshow": {
     "slide_type": "slide"
    }
   },
   "source": [
    "### Reshaping with *view()*\n",
    "\n",
    "PyTorch allows a tensor to be a *view* of an existing tensor. For memory efficiency reasons, view tensorw share the same underlying data with their base tensor. "
   ]
  },
  {
   "cell_type": "code",
   "execution_count": 11,
   "metadata": {},
   "outputs": [
    {
     "data": {
      "text/plain": [
       "tensor([0.8649, 0.2743, 0.5285, 0.7191, 0.1968, 0.0423, 0.9154, 0.9855, 0.6135,\n",
       "        0.1224, 0.0944, 0.9098, 0.1547, 0.0879, 0.9092])"
      ]
     },
     "execution_count": 11,
     "metadata": {},
     "output_type": "execute_result"
    }
   ],
   "source": [
    "# Reshape into a (15,) vector\n",
    "x.view(15)"
   ]
  },
  {
   "cell_type": "code",
   "execution_count": 12,
   "metadata": {
    "slideshow": {
     "slide_type": "slide"
    }
   },
   "outputs": [
    {
     "name": "stdout",
     "output_type": "stream",
     "text": [
      "tensor([[0.8649, 0.2743, 0.5285, 0.7191, 0.1968],\n",
      "        [0.0423, 0.9154, 0.9855, 0.6135, 0.1224],\n",
      "        [0.0944, 0.9098, 0.1547, 0.0879, 0.9092]])\n",
      "tensor([[0.8649, 0.2743, 0.5285],\n",
      "        [0.7191, 0.1968, 0.0423],\n",
      "        [0.9154, 0.9855, 0.6135],\n",
      "        [0.1224, 0.0944, 0.9098],\n",
      "        [0.1547, 0.0879, 0.9092]])\n",
      "tensor([0.8649, 0.2743, 0.5285, 0.7191, 0.1968, 0.0423, 0.9154, 0.9855, 0.6135,\n",
      "        0.1224, 0.0944, 0.9098, 0.1547, 0.0879, 0.9092])\n"
     ]
    }
   ],
   "source": [
    "# The dimension identified by -1 is inferred from other dimensions\n",
    "print(x.view(-1, 5))  # Shape: (3,5)\n",
    "print(x.view(5, -1))  # Shape: (5, 3)\n",
    "print(x.view(-1,))  # Shape: (15,)\n",
    "\n",
    "# Error: a tensor of size 15 can't be reshaped into a (?, 4) tensor\n",
    "# print(x.view(-1, 4))"
   ]
  },
  {
   "cell_type": "markdown",
   "metadata": {
    "slideshow": {
     "slide_type": "slide"
    }
   },
   "source": [
    "### Reshaping à la NumPy"
   ]
  },
  {
   "cell_type": "code",
   "execution_count": 13,
   "metadata": {},
   "outputs": [
    {
     "data": {
      "text/plain": [
       "tensor([[0.8649, 0.2743, 0.5285, 0.7191, 0.1968],\n",
       "        [0.0423, 0.9154, 0.9855, 0.6135, 0.1224],\n",
       "        [0.0944, 0.9098, 0.1547, 0.0879, 0.9092]])"
      ]
     },
     "execution_count": 13,
     "metadata": {},
     "output_type": "execute_result"
    }
   ],
   "source": [
    "# Reshape into a (3,5) tensor, creating a view if possible\n",
    "x.reshape(3, 5)"
   ]
  },
  {
   "cell_type": "markdown",
   "metadata": {
    "slideshow": {
     "slide_type": "slide"
    }
   },
   "source": [
    "### From NumPy to PyTorch"
   ]
  },
  {
   "cell_type": "code",
   "execution_count": 14,
   "metadata": {},
   "outputs": [
    {
     "name": "stdout",
     "output_type": "stream",
     "text": [
      "tensor([[0.6677, 0.9939],\n",
      "        [0.0501, 0.0716]], dtype=torch.float64)\n",
      "tensor([[1.3355, 1.9878],\n",
      "        [0.1001, 0.1433]], dtype=torch.float64)\n",
      "[[2.33546298 2.98781228]\n",
      " [1.1001474  1.14328247]]\n"
     ]
    }
   ],
   "source": [
    "# Create a NumPy tensor\n",
    "a = np.random.rand(2, 2)\n",
    "# Convert it into a PyTorch tensor\n",
    "b = torch.from_numpy(a)\n",
    "\n",
    "print(b)\n",
    "\n",
    "# a and b share memory\n",
    "a *= 2\n",
    "print(b)\n",
    "b += 1\n",
    "print(a)"
   ]
  },
  {
   "cell_type": "markdown",
   "metadata": {
    "slideshow": {
     "slide_type": "slide"
    }
   },
   "source": [
    "### From PyTorch to NumPy"
   ]
  },
  {
   "cell_type": "code",
   "execution_count": 15,
   "metadata": {},
   "outputs": [
    {
     "name": "stdout",
     "output_type": "stream",
     "text": [
      "[[0.68976295 0.33094656]\n",
      " [0.39317626 0.6480599 ]]\n",
      "[[1.3795259 0.6618931]\n",
      " [0.7863525 1.2961198]]\n",
      "tensor([[2.3795, 1.6619],\n",
      "        [1.7864, 2.2961]])\n"
     ]
    }
   ],
   "source": [
    "# Create a PyTorch tensor\n",
    "a = torch.rand(2,2)\n",
    "# Convert it into a NumPy tensor\n",
    "b = a.numpy()\n",
    "\n",
    "print(b)\n",
    "\n",
    "# a and b share memory\n",
    "a *= 2\n",
    "print(b)\n",
    "b += 1\n",
    "print(a)"
   ]
  },
  {
   "cell_type": "markdown",
   "metadata": {
    "slideshow": {
     "slide_type": "slide"
    }
   },
   "source": [
    "### GPU-based tensors"
   ]
  },
  {
   "cell_type": "code",
   "execution_count": 16,
   "metadata": {},
   "outputs": [
    {
     "name": "stdout",
     "output_type": "stream",
     "text": [
      "tensor([[0.8649, 0.2743, 0.5285],\n",
      "        [0.7191, 0.1968, 0.0423],\n",
      "        [0.9154, 0.9855, 0.6135],\n",
      "        [0.1224, 0.0944, 0.9098],\n",
      "        [0.1547, 0.0879, 0.9092]], device='cuda:0')\n",
      "tensor([[1., 1., 1.],\n",
      "        [1., 1., 1.],\n",
      "        [1., 1., 1.]], device='cuda:0')\n"
     ]
    }
   ],
   "source": [
    "# Look for an available CUDA device\n",
    "if torch.cuda.is_available():\n",
    "    device = torch.device(\"cuda\")\n",
    "    # Move an existing tensor to GPU\n",
    "    x_gpu = x.to(device)\n",
    "    print(x_gpu)\n",
    "    # Directly create a tensor on GPU\n",
    "    t_gpu = torch.ones(3, 3, device=device)\n",
    "    print(t_gpu)\n",
    "else:\n",
    "    print(\"No CUDA device available :(\")"
   ]
  },
  {
   "cell_type": "code",
   "execution_count": 17,
   "metadata": {
    "slideshow": {
     "slide_type": "slide"
    }
   },
   "outputs": [
    {
     "name": "stdout",
     "output_type": "stream",
     "text": [
      "tensor([[0.8649, 0.2743, 0.5285],\n",
      "        [0.7191, 0.1968, 0.0423],\n",
      "        [0.9154, 0.9855, 0.6135],\n",
      "        [0.1224, 0.0944, 0.9098],\n",
      "        [0.1547, 0.0879, 0.9092]], device='cuda:0')\n"
     ]
    }
   ],
   "source": [
    "# Try to copy tensor to GPU, fall back on CPU instead\n",
    "device = torch.device('cuda' if torch.cuda.is_available() else 'cpu')\n",
    "x_device = x.to(device)\n",
    "\n",
    "print(x_device)"
   ]
  },
  {
   "cell_type": "markdown",
   "metadata": {
    "slideshow": {
     "slide_type": "slide"
    }
   },
   "source": [
    "## Autograd engine"
   ]
  },
  {
   "cell_type": "markdown",
   "metadata": {
    "slideshow": {
     "slide_type": "slide"
    }
   },
   "source": [
    "### Automatic Differentiation\n",
    "\n",
    "- Many ML/DL algorithms need to compute gradients.\n",
    "- *Automatic Differentiation* (also named *autodiff*) is a family of techniques for efficiently computing derivatives of numeric functions.\n",
    "- AD can differentiate closed-form math expressions, but also algorithms using branching, loops or recursion.\n",
    "- *Autograd* is the name of PyTorch's autodifferentiation engine."
   ]
  },
  {
   "cell_type": "markdown",
   "metadata": {
    "slideshow": {
     "slide_type": "slide"
    }
   },
   "source": [
    "### Numerical differentiation\n",
    "\n",
    "- Finite difference approximation of derivatives.\n",
    "- Generally unstable and limited to a small set of functions.\n",
    "\n",
    "$$\\frac{\\partial f(\\pmb{x})}{\\partial x_i} = \\frac{f(\\pmb{x} + h\\pmb{e}_i) - f(\\pmb{x})}{h}$$"
   ]
  },
  {
   "cell_type": "markdown",
   "metadata": {
    "slideshow": {
     "slide_type": "slide"
    }
   },
   "source": [
    "### Symbolic differentiation\n",
    "\n",
    "- Automatic manipulation of expressions for obtaining derivative expressions.\n",
    "- Used in modern mathematical software (Mathematica, Maple...).\n",
    "- Can lead to *expression swell*: exponentially large\n",
    "symbolic expressions.\n",
    "\n",
    "$$\\frac{\\mathrm{d}}{\\mathrm{d}x}\\left(f(x)+g(x)\\right) = \\frac{\\mathrm{d}}{\\mathrm{d}x}f(x)+\\frac{\\mathrm{d}}{\\mathrm{d}x}g(x)$$\n",
    "\n",
    "$$\\frac{\\mathrm{d}}{\\mathrm{d}x}\\left(f(x)g(x)\\right) = \\left(\\frac{\\mathrm{d}}{\\mathrm{d}x}f(x)\\right)g(x)+f(x)\\left(\\frac{\\mathrm{d}}{\\mathrm{d}x}g(x)\\right)$$"
   ]
  },
  {
   "cell_type": "markdown",
   "metadata": {
    "slideshow": {
     "slide_type": "slide"
    }
   },
   "source": [
    "### Autodiff and its main modes\n",
    "\n",
    "- AD combines numerical and symbolic differentiations.\n",
    "- General idea: apply symbolic differentiation at the elementary operation level and keep intermediate numerical results.\n",
    "- AD exists in two modes: forward and reverse. Both rely on the **chain rule**.\n",
    "\n",
    "$$\\frac{\\mathrm{d}y}{\\mathrm{d}x} = \\frac{\\mathrm{d}y}{\\mathrm{d}w_2} \\frac{\\mathrm{d}w_2}{\\mathrm{d}w_1} \\frac{\\mathrm{d}w_1}{\\mathrm{d}x}$$"
   ]
  },
  {
   "cell_type": "markdown",
   "metadata": {
    "slideshow": {
     "slide_type": "slide"
    }
   },
   "source": [
    "### Forward mode autodiff\n",
    "\n",
    "- Computes gradients w.r.t. one parameter along with the function output.\n",
    "- Relies on [dual numbers](https://en.wikipedia.org/wiki/Automatic_differentiation#Automatic_differentiation_using_dual_numbers).\n",
    "- Efficient when output dimension >> number of parameters."
   ]
  },
  {
   "cell_type": "markdown",
   "metadata": {
    "slideshow": {
     "slide_type": "slide"
    }
   },
   "source": [
    "### Reverse mode autodiff\n",
    "\n",
    "- Computes function output, then do a backward pass to compute gradients w.r.t. all parameters for the output.\n",
    "- Efficient when number of parameters >> output dimension."
   ]
  },
  {
   "cell_type": "markdown",
   "metadata": {
    "slideshow": {
     "slide_type": "slide"
    }
   },
   "source": [
    "### Example: reverse mode autodiff in action\n",
    "\n",
    "Let's define the function $f$ of two variables $x_1$ and $x_2$ like so:\n",
    "\n",
    "$$f(x_1,x_2) = log_e(x_1) + x_1x_2 - sin(x_2)$$\n",
    "\n",
    "It can be represented as a *computational graph*:\n",
    "\n",
    "![Computational graph](images/computational_graph.png)"
   ]
  },
  {
   "cell_type": "markdown",
   "metadata": {
    "slideshow": {
     "slide_type": "slide"
    }
   },
   "source": [
    "#### Step 1: forward pass\n",
    "\n",
    "Intermediate values are calculated and tensor operations are memorized for future gradient computations.\n",
    "\n",
    "![The forward pass](images/autodiff_forward_pass.png)"
   ]
  },
  {
   "cell_type": "markdown",
   "metadata": {
    "slideshow": {
     "slide_type": "slide"
    }
   },
   "source": [
    "#### Step 2: backward pass\n",
    "\n",
    "The chain rule is applied to compute every intermediate gradient, starting from output.\n",
    "\n",
    "$$y=v_5=v_4-v_3$$\n",
    "\n",
    "$$\\frac{\\partial y}{\\partial v_4}=1\\;\\;\\;\\;\\frac{\\partial y}{\\partial v_3}=-1$$\n",
    "\n",
    "$$v_4=v_1+v_2$$\n",
    "\n",
    "$$\\frac{\\partial y}{\\partial v_1}=\\frac{\\partial y}{\\partial v_4}\\frac{\\partial v_4}{\\partial v_1}=1\\;\\;\\;\\;\\frac{\\partial y}{\\partial v_2}=\\frac{\\partial y}{\\partial v_4}\\frac{\\partial v_4}{\\partial v_2}=1$$"
   ]
  },
  {
   "cell_type": "markdown",
   "metadata": {
    "slideshow": {
     "slide_type": "slide"
    }
   },
   "source": [
    "$$v_1 = log_e(x_1)\\;\\;\\;\\;v_2 = x_1x_2\\;\\;\\;\\;v_3 = sin(x_2)$$\n",
    "\n",
    "$$\\frac{\\partial v_1}{\\partial x_1}=\\frac{1}{x_1}\\;\\;\\;\\;\\frac{\\partial v_2}{\\partial x_1}=x_2\\;\\;\\;\\;\\frac{\\partial v_2}{\\partial x_2}=x_1\\;\\;\\;\\;\\frac{\\partial v_3}{\\partial x_2}=cos(x_2)$$\n",
    "\n",
    "$$\\frac{\\partial y}{\\partial x_1}=\\frac{\\partial y}{\\partial v_1}\\frac{\\partial v_1}{\\partial x_1}+\\frac{\\partial y}{\\partial v_2}\\frac{\\partial v_2}{\\partial x_1}=\\frac{1}{x_1}+x_2$$\n",
    "\n",
    "$$\\frac{\\partial y}{\\partial x_2}=\\frac{\\partial y}{\\partial v_2}\\frac{\\partial v_2}{\\partial x_2}+\\frac{\\partial y}{\\partial v_3}\\frac{\\partial v_3}{\\partial x_2}=x_1-cos(x_2)$$"
   ]
  },
  {
   "cell_type": "markdown",
   "metadata": {
    "slideshow": {
     "slide_type": "slide"
    }
   },
   "source": [
    "![Autodiff backward pass](images/autodiff_backward_pass.png)"
   ]
  },
  {
   "cell_type": "markdown",
   "metadata": {
    "slideshow": {
     "slide_type": "slide"
    }
   },
   "source": [
    "### PyTorch autograd engine\n",
    "\n",
    "If its `requires_grad` attribute is set to `True`, PyTorch will track all operations on a tensor and provide *reverse mode automatic differentiation*: partial derivatives are automatically computed backward w.r.t. all involved parameters.\n",
    "\n",
    "The gradient for a tensor will be accumulated into its `.grad` attribute.\n",
    "\n",
    "More info on autodiff in PyTorch is available [here](https://pytorch.org/tutorials/beginner/blitz/autograd_tutorial.html)."
   ]
  },
  {
   "cell_type": "code",
   "execution_count": 18,
   "metadata": {
    "slideshow": {
     "slide_type": "slide"
    }
   },
   "outputs": [],
   "source": [
    "# Create two tensors with autodiff activated\n",
    "# By default, operations are note tracked on user-created tensors\n",
    "x1 = torch.tensor([2.0], requires_grad=True)\n",
    "x2 = torch.tensor([5.0], requires_grad=True)"
   ]
  },
  {
   "cell_type": "code",
   "execution_count": 19,
   "metadata": {
    "slideshow": {
     "slide_type": "slide"
    }
   },
   "outputs": [
    {
     "name": "stdout",
     "output_type": "stream",
     "text": [
      "v1: tensor([0.6931], grad_fn=<LogBackward>)\n",
      "v2: tensor([10.], grad_fn=<MulBackward0>)\n",
      "v3: tensor([-0.9589], grad_fn=<SinBackward>)\n",
      "v4: tensor([10.6931], grad_fn=<AddBackward0>)\n",
      "y: tensor([11.6521], grad_fn=<SubBackward0>)\n"
     ]
    }
   ],
   "source": [
    "# Compute f() on x1 and x2 step by step\n",
    "v1 = torch.log(x1)\n",
    "v2 = x1 * x2\n",
    "v3 = torch.sin(x2)\n",
    "v4 = v1 + v2\n",
    "y = v4 - v3\n",
    "\n",
    "print(f\"v1: {v1}\")\n",
    "print(f\"v2: {v2}\")\n",
    "print(f\"v3: {v3}\")\n",
    "print(f\"v4: {v4}\")\n",
    "print(f\"y: {y}\")"
   ]
  },
  {
   "cell_type": "code",
   "execution_count": 20,
   "metadata": {
    "slideshow": {
     "slide_type": "slide"
    }
   },
   "outputs": [
    {
     "name": "stdout",
     "output_type": "stream",
     "text": [
      "tensor([5.5000])\n",
      "tensor([1.7163])\n"
     ]
    }
   ],
   "source": [
    "# Let the magic happen\n",
    "y.backward()\n",
    "\n",
    "print(x1.grad) # dy/dx1 = 1/2 + 5 = 5.5\n",
    "print(x2.grad) # dy/dx2 = 2 - cos(5) = 1.7163..."
   ]
  },
  {
   "cell_type": "markdown",
   "metadata": {
    "slideshow": {
     "slide_type": "slide"
    }
   },
   "source": [
    "### Differentiable programming\n",
    "\n",
    "> \"People are now building a new kind of software by assembling networks of parameterized functional blocks and by training them from examples using some form of gradient-based optimization…. It’s really very much like a regular program, except it’s parameterized, automatically differentiated, and trainable/optimizable\" (Y. LeCun).\n",
    "\n",
    "Could it be [software 2.0](https://medium.com/@karpathy/software-2-0-a64152b37c35)?\n"
   ]
  },
  {
   "cell_type": "markdown",
   "metadata": {
    "slideshow": {
     "slide_type": "slide"
    }
   },
   "source": [
    "## Neural networks API"
   ]
  },
  {
   "cell_type": "markdown",
   "metadata": {
    "slideshow": {
     "slide_type": "slide"
    }
   },
   "source": [
    "### Building models with PyTorch\n",
    "\n",
    "The `torch.nn` package provides the basic building blocks for assembling models. Other packages like `torch.optim` and `torchvision` define training utilities and specialized tools.\n",
    "\n",
    "PyTorch offers a great deal of flexibility for creating custom architectures and training loops, hence its popularity among researchers."
   ]
  },
  {
   "cell_type": "markdown",
   "metadata": {
    "slideshow": {
     "slide_type": "slide"
    }
   },
   "source": [
    "### Example 1: training a dense network on planar data"
   ]
  },
  {
   "cell_type": "code",
   "execution_count": 21,
   "metadata": {},
   "outputs": [
    {
     "name": "stdout",
     "output_type": "stream",
     "text": [
      "x: (1000, 2). y: (1000,)\n"
     ]
    },
    {
     "data": {
      "image/png": "[encoded data removed]",
      "text/plain": [
       "<Figure size 720x576 with 1 Axes>"
      ]
     },
     "metadata": {
      "image/png": {
       "height": 468,
       "width": 615
      }
     },
     "output_type": "display_data"
    }
   ],
   "source": [
    "# Generate moon-shaped, non-linearly separable data\n",
    "x, y = make_moons(n_samples=1000, noise=0.10, random_state=0)\n",
    "\n",
    "print(f'x: {x.shape}. y: {y.shape}')\n",
    "plot_planar_data(x, y)"
   ]
  },
  {
   "cell_type": "code",
   "execution_count": 22,
   "metadata": {
    "slideshow": {
     "slide_type": "slide"
    }
   },
   "outputs": [],
   "source": [
    "# Create PyTorch tensors from Numpy data, with appropriate types\n",
    "x_train = torch.from_numpy(x).float()\n",
    "y_train = torch.from_numpy(y).long()"
   ]
  },
  {
   "cell_type": "markdown",
   "metadata": {
    "slideshow": {
     "slide_type": "slide"
    }
   },
   "source": [
    "#### Model definition"
   ]
  },
  {
   "cell_type": "code",
   "execution_count": 23,
   "metadata": {},
   "outputs": [
    {
     "name": "stdout",
     "output_type": "stream",
     "text": [
      "Sequential(\n",
      "  (0): Linear(in_features=2, out_features=3, bias=True)\n",
      "  (1): Tanh()\n",
      "  (2): Linear(in_features=3, out_features=2, bias=True)\n",
      ")\n"
     ]
    }
   ],
   "source": [
    "# Use the nn package to define our model as a sequence of layers. nn.Sequential\n",
    "# is a Module which contains other Modules, and applies them in sequence to\n",
    "# produce its output. Each Linear Module computes output from input using a\n",
    "# linear function, and holds internal Tensors for its weight and bias.\n",
    "dense_model = nn.Sequential(\n",
    "    nn.Linear(in_features=2, out_features=3),\n",
    "    nn.Tanh(),\n",
    "    nn.Linear(in_features=3, out_features=2)\n",
    ")\n",
    "\n",
    "print(dense_model)"
   ]
  },
  {
   "cell_type": "code",
   "execution_count": 24,
   "metadata": {
    "slideshow": {
     "slide_type": "slide"
    }
   },
   "outputs": [],
   "source": [
    "# The nn package also contains definitions of popular loss functions; in this\n",
    "# case we will use Cross Entropy as our loss function.\n",
    "loss_fn = nn.CrossEntropyLoss()\n",
    "\n",
    "# Used to enable training analysis through TensorBoard\n",
    "# Writer will output to ./runs/ directory by default\n",
    "writer = SummaryWriter()"
   ]
  },
  {
   "cell_type": "markdown",
   "metadata": {
    "slideshow": {
     "slide_type": "slide"
    }
   },
   "source": [
    "#### Model training"
   ]
  },
  {
   "cell_type": "code",
   "execution_count": 25,
   "metadata": {
    "slideshow": {
     "slide_type": "-"
    }
   },
   "outputs": [
    {
     "name": "stdout",
     "output_type": "stream",
     "text": [
      "Epoch [   1/2000], loss: 0.712400\n",
      "Epoch [ 101/2000], loss: 0.256677\n",
      "Epoch [ 201/2000], loss: 0.254296\n",
      "Epoch [ 301/2000], loss: 0.252989\n",
      "Epoch [ 401/2000], loss: 0.251778\n",
      "Epoch [ 501/2000], loss: 0.250313\n",
      "Epoch [ 601/2000], loss: 0.248521\n",
      "Epoch [ 701/2000], loss: 0.245932\n",
      "Epoch [ 801/2000], loss: 0.229612\n",
      "Epoch [ 901/2000], loss: 0.039542\n",
      "Epoch [1001/2000], loss: 0.019777\n",
      "Epoch [1101/2000], loss: 0.013537\n",
      "Epoch [1201/2000], loss: 0.010533\n",
      "Epoch [1301/2000], loss: 0.008770\n",
      "Epoch [1401/2000], loss: 0.007608\n",
      "Epoch [1501/2000], loss: 0.006783\n",
      "Epoch [1601/2000], loss: 0.006164\n",
      "Epoch [1701/2000], loss: 0.005682\n",
      "Epoch [1801/2000], loss: 0.005296\n",
      "Epoch [1901/2000], loss: 0.004978\n",
      "Training finished. Final loss: 0.004715\n"
     ]
    }
   ],
   "source": [
    "learning_rate = 1.0\n",
    "num_epochs = 2000\n",
    "\n",
    "for epoch in range(num_epochs):\n",
    "    # Forward pass: compute model prediction\n",
    "    y_pred = dense_model(x_train)\n",
    "\n",
    "    # Compute and print loss\n",
    "    loss = loss_fn(y_pred, y_train)\n",
    "    if epoch % 100 == 0:\n",
    "        print(f\"Epoch [{epoch+1:4}/{num_epochs}], loss: {loss:.6f}\")\n",
    "        # Write epoch loss for TensorBoard\n",
    "        writer.add_scalar(\"Loss/train\", loss.item(), epoch)\n",
    "\n",
    "    # Zero the gradients before running the backward pass\n",
    "    # Avoids accumulating gradients erroneously\n",
    "    dense_model.zero_grad()\n",
    "\n",
    "    # Backward pass: compute gradient of the loss w.r.t all the learnable parameters of the model\n",
    "    loss.backward()\n",
    "\n",
    "    # Update the weights using gradient descent\n",
    "    # no_grad() avoids tracking operations history here\n",
    "    with torch.no_grad():\n",
    "        for param in dense_model.parameters():\n",
    "            param -= learning_rate * param.grad\n",
    "\n",
    "\n",
    "print(f\"Training finished. Final loss: {loss:.6f}\")"
   ]
  },
  {
   "cell_type": "markdown",
   "metadata": {
    "slideshow": {
     "slide_type": "slide"
    }
   },
   "source": [
    "#### Training analysis with TensorBoard\n",
    "\n",
    "More info on PyTorch/TensorBoard integration [here](https://pytorch.org/tutorials/intermediate/tensorboard_tutorial.html)."
   ]
  },
  {
   "cell_type": "code",
   "execution_count": 26,
   "metadata": {},
   "outputs": [
    {
     "data": {
      "text/html": [
       "\n",
       "      <iframe id=\"tensorboard-frame-a193f854f4511317\" width=\"100%\" height=\"800\" frameborder=\"0\">\n",
       "      </iframe>\n",
       "      <script>\n",
       "        (function() {\n",
       "          const frame = document.getElementById(\"tensorboard-frame-a193f854f4511317\");\n",
       "          const url = new URL(\"/\", window.location);\n",
       "          const port = 6006;\n",
       "          if (port) {\n",
       "            url.port = port;\n",
       "          }\n",
       "          frame.src = url;\n",
       "        })();\n",
       "      </script>\n",
       "    "
      ],
      "text/plain": [
       "<IPython.core.display.HTML object>"
      ]
     },
     "metadata": {},
     "output_type": "display_data"
    }
   ],
   "source": [
    "%tensorboard --logdir=runs"
   ]
  },
  {
   "cell_type": "markdown",
   "metadata": {
    "slideshow": {
     "slide_type": "slide"
    }
   },
   "source": [
    "### Example 2: training a convnet on CIFAR10"
   ]
  },
  {
   "cell_type": "markdown",
   "metadata": {},
   "source": [
    "#### Data loading and preparation"
   ]
  },
  {
   "cell_type": "code",
   "execution_count": 27,
   "metadata": {},
   "outputs": [
    {
     "name": "stdout",
     "output_type": "stream",
     "text": [
      "Downloading https://www.cs.toronto.edu/~kriz/cifar-10-python.tar.gz to ./data/cifar-10-python.tar.gz\n"
     ]
    },
    {
     "data": {
      "application/vnd.jupyter.widget-view+json": {
       "model_id": "5ab09411942a4b5a8390cd4b14444ffe",
       "version_major": 2,
       "version_minor": 0
      },
      "text/plain": [
       "HBox(children=(FloatProgress(value=1.0, bar_style='info', max=1.0), HTML(value='')))"
      ]
     },
     "metadata": {},
     "output_type": "display_data"
    },
    {
     "name": "stdout",
     "output_type": "stream",
     "text": [
      "Failed download. Trying https -> http instead. Downloading http://www.cs.toronto.edu/~kriz/cifar-10-python.tar.gz to ./data/cifar-10-python.tar.gz\n"
     ]
    },
    {
     "data": {
      "application/vnd.jupyter.widget-view+json": {
       "model_id": "fa7113b4a76049389d4c72ee5921a7c2",
       "version_major": 2,
       "version_minor": 0
      },
      "text/plain": [
       "HBox(children=(FloatProgress(value=1.0, bar_style='info', max=1.0), HTML(value='')))"
      ]
     },
     "metadata": {},
     "output_type": "display_data"
    },
    {
     "name": "stdout",
     "output_type": "stream",
     "text": [
      "Extracting ./data/cifar-10-python.tar.gz to ./data\n",
      "Files already downloaded and verified\n"
     ]
    }
   ],
   "source": [
    "# Transform images of range [0, 1] into tensors of normalized range [-1, 1]\n",
    "transform = transforms.Compose(\n",
    "    [transforms.ToTensor(),\n",
    "     transforms.Normalize((0.5, 0.5, 0.5), (0.5, 0.5, 0.5))])\n",
    "\n",
    "# Load training set\n",
    "trainset = torchvision.datasets.CIFAR10(\n",
    "    root=\"./data\", train=True, download=True, transform=transform\n",
    ")\n",
    "# Get an iterable from training set\n",
    "trainloader = torch.utils.data.DataLoader(\n",
    "    trainset, batch_size=4, shuffle=True, num_workers=2\n",
    ")\n",
    "\n",
    "testset = torchvision.datasets.CIFAR10(\n",
    "    root=\"./data\", train=False, download=True, transform=transform\n",
    ")\n",
    "testloader = torch.utils.data.DataLoader(\n",
    "    testset, batch_size=4, shuffle=False, num_workers=2\n",
    ")"
   ]
  },
  {
   "cell_type": "markdown",
   "metadata": {
    "slideshow": {
     "slide_type": "slide"
    }
   },
   "source": [
    "#### Expected network architecture\n",
    "\n",
    "[![Example CNN architecture](images/cnn_example.png)](https://github.com/gwding/draw_convnet)"
   ]
  },
  {
   "cell_type": "code",
   "execution_count": 28,
   "metadata": {
    "slideshow": {
     "slide_type": "slide"
    }
   },
   "outputs": [],
   "source": [
    "# Define a CNN that takes (3, 32, 32) tensors as input (channel-first)\n",
    "class Net(nn.Module):\n",
    "    def __init__(self):\n",
    "        super(Net, self).__init__()\n",
    "        self.conv1 = nn.Conv2d(in_channels=3, out_channels=6, kernel_size=5)\n",
    "        self.pool = nn.MaxPool2d(kernel_size=2, stride=2)\n",
    "        self.conv2 = nn.Conv2d(in_channels=6, out_channels=16, kernel_size=5)\n",
    "        # Convolution output is 16 5x5 feature maps, flattened as a 400 elements vectors\n",
    "        self.fc1 = nn.Linear(in_features=16 * 5 * 5, out_features=120)\n",
    "        self.fc2 = nn.Linear(in_features=120, out_features=10)\n",
    "\n",
    "    def forward(self, x):\n",
    "        x = self.pool(F.relu(self.conv1(x)))\n",
    "        x = self.pool(F.relu(self.conv2(x)))\n",
    "        x = x.view(-1, 16 * 5 * 5)\n",
    "        x = F.relu(self.fc1(x))\n",
    "        x = self.fc2(x)\n",
    "        return x"
   ]
  },
  {
   "cell_type": "code",
   "execution_count": 29,
   "metadata": {
    "slideshow": {
     "slide_type": "slide"
    }
   },
   "outputs": [
    {
     "name": "stdout",
     "output_type": "stream",
     "text": [
      "Net(\n",
      "  (conv1): Conv2d(3, 6, kernel_size=(5, 5), stride=(1, 1))\n",
      "  (pool): MaxPool2d(kernel_size=2, stride=2, padding=0, dilation=1, ceil_mode=False)\n",
      "  (conv2): Conv2d(6, 16, kernel_size=(5, 5), stride=(1, 1))\n",
      "  (fc1): Linear(in_features=400, out_features=120, bias=True)\n",
      "  (fc2): Linear(in_features=120, out_features=10, bias=True)\n",
      ")\n"
     ]
    }
   ],
   "source": [
    "cnn_model = Net()\n",
    "print(cnn_model)"
   ]
  },
  {
   "cell_type": "markdown",
   "metadata": {
    "slideshow": {
     "slide_type": "slide"
    }
   },
   "source": [
    "#### Model training"
   ]
  },
  {
   "cell_type": "code",
   "execution_count": 30,
   "metadata": {},
   "outputs": [
    {
     "name": "stdout",
     "output_type": "stream",
     "text": [
      "Epoch [1/2], batch  2000, loss: 2.023552\n",
      "Epoch [1/2], batch  4000, loss: 1.701199\n",
      "Epoch [1/2], batch  6000, loss: 1.562360\n",
      "Epoch [1/2], batch  8000, loss: 1.519122\n",
      "Epoch [1/2], batch 10000, loss: 1.436248\n",
      "Epoch [1/2], batch 12000, loss: 1.396973\n",
      "Epoch [2/2], batch  2000, loss: 1.340442\n",
      "Epoch [2/2], batch  4000, loss: 1.331515\n",
      "Epoch [2/2], batch  6000, loss: 1.305603\n",
      "Epoch [2/2], batch  8000, loss: 1.284358\n",
      "Epoch [2/2], batch 10000, loss: 1.246903\n",
      "Epoch [2/2], batch 12000, loss: 1.255510\n",
      "Training finished\n"
     ]
    }
   ],
   "source": [
    "criterion = nn.CrossEntropyLoss()\n",
    "optimizer = optim.SGD(cnn_model.parameters(), lr=0.001, momentum=0.9)\n",
    "\n",
    "num_epochs = 2\n",
    "\n",
    "# Loop over the dataset multiple times\n",
    "for epoch in range(num_epochs):\n",
    "    running_loss = 0.0\n",
    "\n",
    "    for i, data in enumerate(trainloader, 0):\n",
    "        # Get the inputs; data is a list of [inputs, labels]\n",
    "        # inputs is a 4D tensor of shape (batch size, channels, rows, cols)\n",
    "        # labels is a 1D tensor of shape (batch size,)\n",
    "        inputs, labels = data¶\n",
    "\n",
    "        # Reset the parameter gradients\n",
    "        optimizer.zero_grad()\n",
    "\n",
    "        # Forward pass\n",
    "        outputs = cnn_model(inputs)\n",
    "\n",
    "        # Loos computation\n",
    "        loss = criterion(outputs, labels)\n",
    "\n",
    "        # Backward pass\n",
    "        loss.backward()\n",
    "\n",
    "        # GD step\n",
    "        optimizer.step()\n",
    "\n",
    "        # Print statistics\n",
    "        running_loss += loss.item()\n",
    "        if i % 2000 == 1999:  # print every 2000 mini-batches\n",
    "            print(\n",
    "                f\"Epoch [{epoch+1}/{num_epochs}], batch {i+1:5}, loss: {running_loss / 2000:.6f}\"\n",
    "            )\n",
    "            running_loss = 0.0\n",
    "\n",
    "\n",
    "print(f\"Training finished\")"
   ]
  },
  {
   "cell_type": "markdown",
   "metadata": {
    "slideshow": {
     "slide_type": "slide"
    }
   },
   "source": [
    "#### Model evaluation"
   ]
  },
  {
   "cell_type": "code",
   "execution_count": 31,
   "metadata": {},
   "outputs": [
    {
     "name": "stdout",
     "output_type": "stream",
     "text": [
      "Test acccuracy: 55.69%\n"
     ]
    }
   ],
   "source": [
    "correct = 0\n",
    "total = 0\n",
    "\n",
    "with torch.no_grad():\n",
    "    for data in testloader:\n",
    "        # Load inputs and labels\n",
    "        images, labels = data\n",
    "        # Compute model predictions for batch. Shape is (batch size, number of classes) so(4, 10) here\n",
    "        outputs = cnn_model(images)\n",
    "        # Get the indexes of maximum values along the second axis\n",
    "        # This gives us the predicted classes (those with the highest prediction value)\n",
    "        _, predicted = torch.max(outputs.data, dim=1)\n",
    "        total += labels.size(0)\n",
    "        # Add the number of correct predictions for the batch to the total count\n",
    "        correct += (predicted == labels).sum().item()\n",
    "\n",
    "print(f\"Test acccuracy: {(100 * correct / total)}%\")"
   ]
  },
  {
   "cell_type": "code",
   "execution_count": null,
   "metadata": {},
   "outputs": [],
   "source": []
  }
 ],
 "metadata": {
  "celltoolbar": "Diaporama",
  "kernelspec": {
   "display_name": "Python 3",
   "language": "python",
   "name": "python3"
  },
  "language_info": {
   "codemirror_mode": {
    "name": "ipython",
    "version": 3
   },
   "file_extension": ".py",
   "mimetype": "text/x-python",
   "name": "python",
   "nbconvert_exporter": "python",
   "pygments_lexer": "ipython3",
   "version": "3.8.3"
  }
 },
 "nbformat": 4,
 "nbformat_minor": 4
}
